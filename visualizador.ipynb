{
 "cells": [
  {
   "cell_type": "code",
   "execution_count": 1,
   "metadata": {},
   "outputs": [
    {
     "name": "stdout",
     "output_type": "stream",
     "text": [
      "   Rank             Youtube Channel  Subscribers      Video Views Video Count  \\\n",
      "0     1                    T-Series  234,000,000  212,900,271,553      18,515   \n",
      "1     2              YouTube Movies  161,000,000                0           0   \n",
      "2     3  Cocomelon - Nursery Rhymes  152,000,000  149,084,178,448         846   \n",
      "3     4                   SET India  150,000,000  137,828,094,104     103,200   \n",
      "4     5                     MrBeast  128,000,000   21,549,128,785         733   \n",
      "5     6                       Music  118,000,000                0           0   \n",
      "6     7                   PewDiePie  111,000,000   28,851,883,250       4,694   \n",
      "7     8           ✿ Kids Diana Show  106,000,000   86,638,570,921       1,056   \n",
      "8     9                 Like Nastya  104,000,000   87,202,935,675         754   \n",
      "9    10                      Gaming   93,300,000                0           0   \n",
      "\n",
      "                                            Category  Started  \n",
      "0                                              Music     2006  \n",
      "1                                   Film & Animation     2015  \n",
      "2                                          Education     2006  \n",
      "3                                              Shows     2006  \n",
      "4                                      Entertainment     2012  \n",
      "5  https://us.youtubers.me/global/all/top-1000-mo...     2013  \n",
      "6                                             Gaming     2010  \n",
      "7                                     People & Blogs     2015  \n",
      "8                                     People & Blogs     2016  \n",
      "9  https://us.youtubers.me/global/all/top-1000-mo...     2013  \n"
     ]
    }
   ],
   "source": [
    "import pandas as pd\n",
    "df = pd.read_csv(\"topSubscribed.csv\")\n",
    "print(df.head(10))"
   ]
  }
 ],
 "metadata": {
  "kernelspec": {
   "display_name": "Python 3",
   "language": "python",
   "name": "python3"
  },
  "language_info": {
   "codemirror_mode": {
    "name": "ipython",
    "version": 3
   },
   "file_extension": ".py",
   "mimetype": "text/x-python",
   "name": "python",
   "nbconvert_exporter": "python",
   "pygments_lexer": "ipython3",
   "version": "3.11.1"
  },
  "orig_nbformat": 4,
  "vscode": {
   "interpreter": {
    "hash": "d0f41c7390b6e1faa574891af516fd13b83a9cc6503d6d59b4979906751c0f80"
   }
  }
 },
 "nbformat": 4,
 "nbformat_minor": 2
}
